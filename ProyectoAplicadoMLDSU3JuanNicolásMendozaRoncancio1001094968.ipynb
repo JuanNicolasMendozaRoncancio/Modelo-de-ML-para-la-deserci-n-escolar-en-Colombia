{
  "nbformat": 4,
  "nbformat_minor": 0,
  "metadata": {
    "colab": {
      "provenance": []
    },
    "kernelspec": {
      "name": "python3",
      "display_name": "Python 3"
    },
    "language_info": {
      "name": "python"
    }
  },
  "cells": [
    {
      "cell_type": "markdown",
      "source": [
        "# Definición de la propuesta\n",
        "\n",
        "\n"
      ],
      "metadata": {
        "id": "k7Ui7COLDRe7"
      }
    },
    {
      "cell_type": "markdown",
      "source": [
        "## Problemática\n",
        "\n",
        "En Colombia, el 54% de los estudiantes en escuelas oficiales se encuentran en los niveles mínimos e insuficientes en las pruebas Saber 11 en 2018. Además, de cada 100 estudiantes que ingresan al primer grado de educación escolar, solo 46 logran graduarse sin desertar ni perder ningún año. Asimismo, 5 de cada 10 niños consideran que solo aprenden lo suficiente o lo básico en el colegio. Este problema no se limita únicamente a la educación correspondiente a la etapa escolar, sino que también afecta a la educación superior, que presenta un déficit acumulado de 15 billones de pesos hasta noviembre de 2021."
      ],
      "metadata": {
        "id": "zXZyTC63NP5U"
      }
    },
    {
      "cell_type": "markdown",
      "source": [
        "## Arquitectura de la solución\n",
        "\n",
        "Estas estadísticas indican que el sistema educativo de nuestro país tiene grandes falencias estructurales, además de las económicas que ya son evidentes. Es por esto que debemos tomar acción desde nuestros nichos para lograr mejorar este sistema, después de todo, la educación es uno de los pilares mismos de la sociedad en la que vivimos.\n",
        "\n",
        "El objetivo del presente proyecto es construir un modelo de ML utilizando la tecnología Dask para poder predecir el nivel de deserción escolar total al final de la educación media en cada municipio del país.\n",
        "\n",
        "Como es usual en los proyectos de ML, seguiremos el siguiente proceso:\n",
        "\n",
        "* Carga del conjunto de datos con Dask.\n",
        "* Análisis exploratorio de datos.\n",
        "* Limpieza de datos: manejo de valores nulos y faltantes.\n",
        "* Preprocesamiento de los datos utilizando Dask-ML.\n",
        "* Selección y entrenamiento del modelo utilizando Dask-ML.\n",
        "* Evaluación de los resultados."
      ],
      "metadata": {
        "id": "mu77Z9c9OBrY"
      }
    },
    {
      "cell_type": "markdown",
      "source": [
        "#Declaración del conjunto de datos"
      ],
      "metadata": {
        "id": "Xs_KIz_yQQqA"
      }
    },
    {
      "cell_type": "markdown",
      "source": [
        "## Definición de la fuente del conjunto de datos\n",
        "\n",
        "El conjunto de datos con el que trabajaremos se obtuvo de las bases de datos abiertas del Ministerio Nacional. Más específicamente, se puede encontrar en el siguiente enlace:  https://www.datos.gov.co/Educaci-n/MEN_ESTADISTICAS_EN_EDUCACION_EN_PREESCOLAR-B-SICA/ji8i-4anb"
      ],
      "metadata": {
        "id": "o9RCqm2nQVUr"
      }
    },
    {
      "cell_type": "markdown",
      "source": [
        "## Descripición del conjunto de datos:\n",
        "\n",
        "El conjunto de datos original cuenta con las siguientes variables:\n",
        "\n",
        "\n",
        "| Variable | Definición | Tipo |\n",
        "| --- | --- | --- |\n",
        "| AÑO | Año referente a la entrada | Numérico |\n",
        "| CODIGO_DEPARTAMENTO | Codigo DANE del departamente | Numérico |\n",
        "| DEPARTAMENTO | Nombre del departamento | Texto |\n",
        "| POBLACIÓN_5_16 | Población proyectada a estudiar | Texto |\n",
        "| TASA_DE_MATRICULACIÓN_5_16 | Tasa de matriculación proyectada | Numerico |\n",
        "| COBERTURA_NETA | Porcentaje de los estudantes que deberían estar esudianto, que están estudiando | Numérico |\n",
        "| COBERTURA_NETA_TRANSICIÓN | Porcentaje de estudiantes matriculados en este nivel | Categórico |\n",
        "| COBERTURA_NETA_PRIMARIA | Porcentaje de estudiantes matriculados en este nivel | Categórico |\n",
        "| COBERTURA_NETA_SECUNDARIA | Porcentaje de estudiantes matriculados en este nivel | Categórico |\n",
        "| COBERTURA_NETA_MEDIA | Porcentaje de estudiantes matriculados en este nivel | Categórico |\n",
        "| COBERTURA_BRUTA | Porcentaje de estudiantes de cualquier edad estudiando | Categórico |\n",
        "| COBERTURA_BRUTA_TRANSICIÓN |Cobertura bruta en este nivel  | Categórico |\n",
        "| COBERTURA_BRUTA_PRIMARIA | Cobertura bruta en este nivel | Numérico |\n",
        "| COBERTURA_BRUTA_SECUNDARIA | Cobertura bruta en este nivel | Numérico |\n",
        "| COBERTURA_BRUTA_MEDIA |Cobertura bruta en este nivel | Numérico |\n",
        "| TAMAÑO_PROMEDIO_DE_GRUPO | Promedio del tamaño en el grupo | Numérico |\n",
        "|SEDES_CONECTADAS_A_INTERNET | Porcentaje de sedes oficiales con acceso a internet | Texto |\n",
        "| DESERCIÓN | Porcentaje de deserción, esta es la variable objetivo | Numérico |\n",
        "| DESERCIÓN_TRANSICIÓN | Porcentaje de deserción en este nivel | Numérico |\n",
        "| DESERCIÓN_PRIMARIA | Porcentaje de deserción en este nivel | Numérico |\n",
        "| DESERCIÓN_SECUNDARIA | Porcentaje de deserción en este nivel | Numérico |\n",
        "| DESERCIÓN_MEDIA | Porcentaje de deserción en este nivel  | Numérico |\n",
        "| APROBACIÓN | Porcentaje de aprobación total | Categórico |\n",
        "| APROBACIÓN_TRANSICIÓN | Porcentaje de aprovación en este nivel | Numérico |\n",
        "| APROBACIÓN_PRIMARIA | Porcentaje de aprovación en este nivel | Numerico |\n",
        "| APROBACIÓN_SECUNDARIA | Porcentaje de aprovación en este nivel | Numérico |\n",
        "| APROBACIÓN_MEDIA | Porcentaje de aprovación en este nivel | Numérico |\n",
        "| REPROBACIÓN | Porcentaje de reprobación total | Numerico|\n",
        "| REPROBACIÓN_TRANSICIÓN|Porcentaje de reprobación en este nivel | Numerico|\n",
        "| REPROBACIÓN_PRIMARIA | Porcentaje de reprobación en este nivel| Numerico|\n",
        "| REPROBACIÓN_SECUNDARIA | Porcentaje de reprobación en este nivel| Numerico|\n",
        "| REPROBACIÓN_MEDIA |Porcentaje de reprobación en este nivel | Numerico|\n",
        "| REPITENCIA | Porcentaje total de repitencia | Numerico |\n",
        "| REPITENCIA_TRANSICIÓN |Porcentaje total de repitencia en este nivel | Numerico|\n",
        "| REPITENCIA_PRIMARIA|Porcentaje total de repitencia en este nivel | Numerico |\n",
        "| REPITENCIA_SECUNDARIA| Porcentaje total de repitencia en este nivel| Numerico |\n",
        "| REPITENCIA_MEDIA |Porcentaje total de repitencia en este nivel | Numerico |\n",
        "\n",
        "El conjunto de datos recorre los años desde 2011 hasta 2020"
      ],
      "metadata": {
        "id": "KL44oIcXRE0s"
      }
    },
    {
      "cell_type": "markdown",
      "source": [
        "#Definición de las tecnologias a utilizar"
      ],
      "metadata": {
        "id": "y9tNymu6ZLol"
      }
    },
    {
      "cell_type": "markdown",
      "source": [
        "En nuestro caso, al tener una variable objetivo que no es categórica, el uso de un modelo de regresión es ideal para nuestro propósito de predecir valores numéricos.\n",
        "\n",
        "La tecnología Dask es una elección adecuada debido al volumen de datos que estamos manejando, que puede volverse bastante grande. Dask nos permite realizar procesamiento en paralelo, lo cual es beneficioso para acelerar el procesamiento y el entrenamiento de nuestro modelo. Además, Dask se basa en la familiar interfaz de Pandas, lo que facilita la transición y nos permite aprovechar nuestros conocimientos previos en Pandas.\n",
        "\n",
        "Otra ventaja de Dask es que ofrece capacidades de entrenamiento y aplicación de modelos en paralelo, lo que acelera significativamente nuestro proceso de predicción. Esto es especialmente útil cuando trabajamos con grandes volúmenes de datos, ya que nos permite aprovechar al máximo los recursos disponibles y reducir el tiempo de ejecución.\n",
        "\n",
        "En resumen, la elección de Dask para nuestro proyecto se justifica por su capacidad de procesamiento en paralelo, su familiaridad con Pandas y su eficiencia en el entrenamiento y aplicación de modelos, lo cual es crucial para nuestro objetivo de construir un modelo de ML efectivo en un entorno de datos voluminosos."
      ],
      "metadata": {
        "id": "P-FacJCuZuFB"
      }
    },
    {
      "cell_type": "markdown",
      "source": [
        "#Implementación del proceso descrito"
      ],
      "metadata": {
        "id": "I857g7ONdnrZ"
      }
    },
    {
      "cell_type": "markdown",
      "source": [
        "##Instalación de herramientas\n",
        "\n",
        "Comenzamos instalando todas las librerías necesarias para el desarrollo del proyecto."
      ],
      "metadata": {
        "id": "iYQSasHHdy3H"
      }
    },
    {
      "cell_type": "code",
      "source": [
        "!pip install dask[complete] h5py dask-ml"
      ],
      "metadata": {
        "id": "8DX6WCf9H0VU"
      },
      "execution_count": null,
      "outputs": []
    },
    {
      "cell_type": "code",
      "source": [
        "import numpy as np\n",
        "import pandas as pd\n",
        "import dask.dataframe as dd\n",
        "import dask.array as da\n",
        "from dask_ml.model_selection import train_test_split\n",
        "from google.colab import drive\n",
        "import dask.dataframe as dd\n",
        "from dask_ml.preprocessing import OneHotEncoder\n",
        "from dask_ml.preprocessing import StandardScaler\n",
        "from dask_ml.linear_model import LinearRegression\n",
        "from dask_ml.metrics import mean_squared_error, r2_score"
      ],
      "metadata": {
        "id": "AJzV0P8AH_sM"
      },
      "execution_count": 130,
      "outputs": []
    },
    {
      "cell_type": "markdown",
      "source": [
        "## Carga de los datos\n",
        "\n",
        "Nuestros datos se encuentran en Google Drive, los cargamos y cambiamos el tipo de ciertas variables para el buen funcionamiento de las próximas celdas."
      ],
      "metadata": {
        "id": "4XJyZnv-eXry"
      }
    },
    {
      "cell_type": "code",
      "source": [
        "drive.mount('/content/drive')\n",
        "ruta_archivo = '/content/drive/MyDrive/MLDS/MEN_ESTADISTICAS_EN_EDUCACION_EN_PREESCOLAR__B_SICA_Y_MEDIA_POR_MUNICIPIO.csv'\n",
        "df = dd.read_csv(ruta_archivo, dtype={'AÑO': 'object',\n",
        "       'CÓDIGO_ETC': 'object',\n",
        "       'POBLACIÓN_5_16': 'object'})"
      ],
      "metadata": {
        "colab": {
          "base_uri": "https://localhost:8080/"
        },
        "id": "TAo9RqgbIzME",
        "outputId": "0f7688c0-5bee-433f-e0f9-f6de76284938"
      },
      "execution_count": 154,
      "outputs": [
        {
          "output_type": "stream",
          "name": "stdout",
          "text": [
            "Drive already mounted at /content/drive; to attempt to forcibly remount, call drive.mount(\"/content/drive\", force_remount=True).\n"
          ]
        }
      ]
    },
    {
      "cell_type": "markdown",
      "source": [
        "Para comenzar nuestro análisis exploratorio de datos, veamos nuestro dataframe, sus columnas, los tipos de columnas, y cuantas son."
      ],
      "metadata": {
        "id": "wyRWVBa9fLSk"
      }
    },
    {
      "cell_type": "code",
      "source": [
        "print(df)"
      ],
      "metadata": {
        "colab": {
          "base_uri": "https://localhost:8080/"
        },
        "id": "ww1ZrKnSKhQS",
        "outputId": "d31f22fd-db07-46fd-896f-616b63f60d39"
      },
      "execution_count": 155,
      "outputs": [
        {
          "output_type": "stream",
          "name": "stdout",
          "text": [
            "Dask DataFrame Structure:\n",
            "                  AÑO CÓDIGO_MUNICIPIO MUNICIPIO CÓDIGO_DEPARTAMENTO DEPARTAMENTO CÓDIGO_ETC     ETC POBLACIÓN_5_16 TASA_MATRICULACIÓN_5_16 COBERTURA_NETA COBERTURA_NETA_TRANSICIÓN COBERTURA_NETA_PRIMARIA COBERTURA_NETA_SECUNDARIA COBERTURA_NETA_MEDIA COBERTURA_BRUTA COBERTURA_BRUTA_TRANSICIÓN COBERTURA_BRUTA_PRIMARIA COBERTURA_BRUTA_SECUNDARIA COBERTURA_BRUTA_MEDIA TAMAÑO_PROMEDIO_DE_GRUPO SEDES_CONECTADAS_A_INTERNET DESERCIÓN DESERCIÓN_TRANSICIÓN DESERCIÓN_PRIMARIA DESERCIÓN_SECUNDARIA DESERCIÓN_MEDIA APROBACIÓN APROBACIÓN_TRANSICIÓN APROBACIÓN_PRIMARIA APROBACIÓN_SECUNDARIA APROBACIÓN_MEDIA REPROBACIÓN REPROBACIÓN_TRANSICIÓN REPROBACIÓN_PRIMARIA REPROBACIÓN_SECUNDARIA REPROBACIÓN_MEDIA REPITENCIA REPITENCIA_TRANSICIÓN REPITENCIA_PRIMARIA REPITENCIA_SECUNDARIA REPITENCIA_MEDIA\n",
            "npartitions=1                                                                                                                                                                                                                                                                                                                                                                                                                                                                                                                                                                                                                                                                                                                                                                                                        \n",
            "               object            int64    object               int64       object     object  object         object                 float64        float64                   float64                 float64                   float64              float64         float64                    float64                  float64                    float64               float64                  float64                     float64   float64              float64            float64              float64         float64    float64               float64             float64               float64          float64     float64                float64              float64                float64           float64    float64               float64             float64               float64          float64\n",
            "                  ...              ...       ...                 ...          ...        ...     ...            ...                     ...            ...                       ...                     ...                       ...                  ...             ...                        ...                      ...                        ...                   ...                      ...                         ...       ...                  ...                ...                  ...             ...        ...                   ...                 ...                   ...              ...         ...                    ...                  ...                    ...               ...        ...                   ...                 ...                   ...              ...\n",
            "Dask Name: read-csv, 1 graph layer\n"
          ]
        }
      ]
    },
    {
      "cell_type": "code",
      "source": [
        "print(df.columns)"
      ],
      "metadata": {
        "colab": {
          "base_uri": "https://localhost:8080/"
        },
        "id": "VPDcOE5iMqVC",
        "outputId": "22c98177-2f69-407d-93b0-b702bab69b93"
      },
      "execution_count": 156,
      "outputs": [
        {
          "output_type": "stream",
          "name": "stdout",
          "text": [
            "Index(['AÑO', 'CÓDIGO_MUNICIPIO', 'MUNICIPIO', 'CÓDIGO_DEPARTAMENTO',\n",
            "       'DEPARTAMENTO', 'CÓDIGO_ETC', 'ETC', 'POBLACIÓN_5_16',\n",
            "       'TASA_MATRICULACIÓN_5_16', 'COBERTURA_NETA',\n",
            "       'COBERTURA_NETA_TRANSICIÓN', 'COBERTURA_NETA_PRIMARIA',\n",
            "       'COBERTURA_NETA_SECUNDARIA', 'COBERTURA_NETA_MEDIA', 'COBERTURA_BRUTA',\n",
            "       'COBERTURA_BRUTA_TRANSICIÓN', 'COBERTURA_BRUTA_PRIMARIA',\n",
            "       'COBERTURA_BRUTA_SECUNDARIA', 'COBERTURA_BRUTA_MEDIA',\n",
            "       'TAMAÑO_PROMEDIO_DE_GRUPO', 'SEDES_CONECTADAS_A_INTERNET', 'DESERCIÓN',\n",
            "       'DESERCIÓN_TRANSICIÓN', 'DESERCIÓN_PRIMARIA', 'DESERCIÓN_SECUNDARIA',\n",
            "       'DESERCIÓN_MEDIA', 'APROBACIÓN', 'APROBACIÓN_TRANSICIÓN',\n",
            "       'APROBACIÓN_PRIMARIA', 'APROBACIÓN_SECUNDARIA', 'APROBACIÓN_MEDIA',\n",
            "       'REPROBACIÓN', 'REPROBACIÓN_TRANSICIÓN', 'REPROBACIÓN_PRIMARIA',\n",
            "       'REPROBACIÓN_SECUNDARIA', 'REPROBACIÓN_MEDIA', 'REPITENCIA',\n",
            "       'REPITENCIA_TRANSICIÓN', 'REPITENCIA_PRIMARIA', 'REPITENCIA_SECUNDARIA',\n",
            "       'REPITENCIA_MEDIA'],\n",
            "      dtype='object')\n"
          ]
        }
      ]
    },
    {
      "cell_type": "code",
      "source": [
        "print(df.dtypes)"
      ],
      "metadata": {
        "colab": {
          "base_uri": "https://localhost:8080/"
        },
        "id": "ml4DFj5WLKyM",
        "outputId": "a8ce4f78-64ab-40ff-e8a7-b2599ef7a389"
      },
      "execution_count": 157,
      "outputs": [
        {
          "output_type": "stream",
          "name": "stdout",
          "text": [
            "AÑO                             object\n",
            "CÓDIGO_MUNICIPIO                 int64\n",
            "MUNICIPIO                       object\n",
            "CÓDIGO_DEPARTAMENTO              int64\n",
            "DEPARTAMENTO                    object\n",
            "CÓDIGO_ETC                      object\n",
            "ETC                             object\n",
            "POBLACIÓN_5_16                  object\n",
            "TASA_MATRICULACIÓN_5_16        float64\n",
            "COBERTURA_NETA                 float64\n",
            "COBERTURA_NETA_TRANSICIÓN      float64\n",
            "COBERTURA_NETA_PRIMARIA        float64\n",
            "COBERTURA_NETA_SECUNDARIA      float64\n",
            "COBERTURA_NETA_MEDIA           float64\n",
            "COBERTURA_BRUTA                float64\n",
            "COBERTURA_BRUTA_TRANSICIÓN     float64\n",
            "COBERTURA_BRUTA_PRIMARIA       float64\n",
            "COBERTURA_BRUTA_SECUNDARIA     float64\n",
            "COBERTURA_BRUTA_MEDIA          float64\n",
            "TAMAÑO_PROMEDIO_DE_GRUPO       float64\n",
            "SEDES_CONECTADAS_A_INTERNET    float64\n",
            "DESERCIÓN                      float64\n",
            "DESERCIÓN_TRANSICIÓN           float64\n",
            "DESERCIÓN_PRIMARIA             float64\n",
            "DESERCIÓN_SECUNDARIA           float64\n",
            "DESERCIÓN_MEDIA                float64\n",
            "APROBACIÓN                     float64\n",
            "APROBACIÓN_TRANSICIÓN          float64\n",
            "APROBACIÓN_PRIMARIA            float64\n",
            "APROBACIÓN_SECUNDARIA          float64\n",
            "APROBACIÓN_MEDIA               float64\n",
            "REPROBACIÓN                    float64\n",
            "REPROBACIÓN_TRANSICIÓN         float64\n",
            "REPROBACIÓN_PRIMARIA           float64\n",
            "REPROBACIÓN_SECUNDARIA         float64\n",
            "REPROBACIÓN_MEDIA              float64\n",
            "REPITENCIA                     float64\n",
            "REPITENCIA_TRANSICIÓN          float64\n",
            "REPITENCIA_PRIMARIA            float64\n",
            "REPITENCIA_SECUNDARIA          float64\n",
            "REPITENCIA_MEDIA               float64\n",
            "dtype: object\n"
          ]
        }
      ]
    },
    {
      "cell_type": "code",
      "source": [
        "print(df.shape[0].compute())"
      ],
      "metadata": {
        "colab": {
          "base_uri": "https://localhost:8080/"
        },
        "id": "2xeYpaoEQQNz",
        "outputId": "5fbb8b2c-1991-417d-9cf6-dbf0b8459a32"
      },
      "execution_count": 158,
      "outputs": [
        {
          "output_type": "stream",
          "name": "stdout",
          "text": [
            "12343\n"
          ]
        }
      ]
    },
    {
      "cell_type": "markdown",
      "source": [
        "Vemos que tenemos en total 12343 filas de datos, y si tenemos 41 columnas nuestros datos brutos son: 506063 datos. Además hay 8 de nuestras columnas son valores categóricos, lo cual nos indica que debemos usar preprocesamiento categórico y numérico.\n",
        "\n",
        "Veamos ahora las estadísticas generales de nuestro conjunto de datos."
      ],
      "metadata": {
        "id": "VU9C22UIfYWG"
      }
    },
    {
      "cell_type": "code",
      "source": [
        "desc = df.describe(include=\"all\")\n",
        "print(desc.compute())"
      ],
      "metadata": {
        "colab": {
          "base_uri": "https://localhost:8080/"
        },
        "id": "ZbgBWp5gQZsE",
        "outputId": "51bc1e1b-9f56-48bc-af72-512510ed371b"
      },
      "execution_count": 159,
      "outputs": [
        {
          "output_type": "stream",
          "name": "stdout",
          "text": [
            "          AÑO  CÓDIGO_MUNICIPIO   MUNICIPIO  CÓDIGO_DEPARTAMENTO DEPARTAMENTO  \\\n",
            "unique     12               NaN        1037                  NaN           36   \n",
            "count   12343      12343.000000       12343         12343.000000        12343   \n",
            "top      2019               NaN  Villanueva                  NaN    Antioquia   \n",
            "freq     1123               NaN          44                  NaN         1375   \n",
            "mean      NaN      38697.935429         NaN            38.264198          NaN   \n",
            "std       NaN      26560.364162         NaN            26.573651          NaN   \n",
            "min       NaN          0.000000         NaN             0.000000          NaN   \n",
            "25%       NaN      15676.000000         NaN            15.000000          NaN   \n",
            "50%       NaN      25839.000000         NaN            25.000000          NaN   \n",
            "75%       NaN      66572.000000         NaN            66.000000          NaN   \n",
            "max       NaN      99773.000000         NaN            99.000000          NaN   \n",
            "\n",
            "       CÓDIGO_ETC           ETC POBLACIÓN_5_16  TASA_MATRICULACIÓN_5_16  \\\n",
            "unique        193            99           7762                      NaN   \n",
            "count       12343         12343          12337             12228.000000   \n",
            "top          3769  Boyacá (ETC)            469                      NaN   \n",
            "freq         1200          1320              9                      NaN   \n",
            "mean          NaN           NaN            NaN                85.043006   \n",
            "std           NaN           NaN            NaN                19.083367   \n",
            "min           NaN           NaN            NaN                 0.000000   \n",
            "25%           NaN           NaN            NaN                74.547500   \n",
            "50%           NaN           NaN            NaN                85.500000   \n",
            "75%           NaN           NaN            NaN                95.800000   \n",
            "max           NaN           NaN            NaN               279.030000   \n",
            "\n",
            "        COBERTURA_NETA  ...   REPROBACIÓN  REPROBACIÓN_TRANSICIÓN  \\\n",
            "unique             NaN  ...           NaN                     NaN   \n",
            "count     12232.000000  ...  12257.000000            12250.000000   \n",
            "top                NaN  ...           NaN                     NaN   \n",
            "freq               NaN  ...           NaN                     NaN   \n",
            "mean         85.740056  ...      4.437508                0.503794   \n",
            "std          17.169971  ...      4.031168                1.737418   \n",
            "min           0.000000  ...      0.000000                0.000000   \n",
            "25%          77.047500  ...      0.460000                0.000000   \n",
            "50%          86.710000  ...      3.980000                0.000000   \n",
            "75%          94.720000  ...      7.060000                0.200000   \n",
            "max         264.540000  ...     49.390000               52.710000   \n",
            "\n",
            "        REPROBACIÓN_PRIMARIA  REPROBACIÓN_SECUNDARIA  REPROBACIÓN_MEDIA  \\\n",
            "unique                   NaN                     NaN                NaN   \n",
            "count           12246.000000            12237.000000       12198.000000   \n",
            "top                      NaN                     NaN                NaN   \n",
            "freq                     NaN                     NaN                NaN   \n",
            "mean                3.608439                6.305304           3.957156   \n",
            "std                 3.767198                6.175168           4.235287   \n",
            "min                 0.000000                0.000000           0.000000   \n",
            "25%                 0.070000                0.140000           0.450000   \n",
            "50%                 2.890000                5.240000           2.750000   \n",
            "75%                 5.710000               10.140000           6.227500   \n",
            "max                51.970000               76.970000          67.860000   \n",
            "\n",
            "          REPITENCIA  REPITENCIA_TRANSICIÓN  REPITENCIA_PRIMARIA  \\\n",
            "unique           NaN                    NaN                  NaN   \n",
            "count   12200.000000           12184.000000         12195.000000   \n",
            "top              NaN                    NaN                  NaN   \n",
            "freq             NaN                    NaN                  NaN   \n",
            "mean        2.448902               0.642603             2.241409   \n",
            "std         2.564502               1.691139             2.583389   \n",
            "min         0.000000               0.000000             0.000000   \n",
            "25%         0.550000               0.000000             0.450000   \n",
            "50%         1.620000               0.000000             1.430000   \n",
            "75%         3.600000               0.660000             3.200000   \n",
            "max        37.470000              33.070000            50.760000   \n",
            "\n",
            "        REPITENCIA_SECUNDARIA  REPITENCIA_MEDIA  \n",
            "unique                    NaN               NaN  \n",
            "count            12191.000000      12204.000000  \n",
            "top                       NaN               NaN  \n",
            "freq                      NaN               NaN  \n",
            "mean                 3.307769          1.335237  \n",
            "std                  3.767219          1.995160  \n",
            "min                  0.000000          0.000000  \n",
            "25%                  0.530000          0.000000  \n",
            "50%                  2.010000          0.610000  \n",
            "75%                  4.900000          1.890000  \n",
            "max                 55.070000         36.450000  \n",
            "\n",
            "[11 rows x 41 columns]\n"
          ]
        }
      ]
    },
    {
      "cell_type": "markdown",
      "source": [
        "Ahora los promedios de las variables numéricas."
      ],
      "metadata": {
        "id": "8g_TQ055g-bB"
      }
    },
    {
      "cell_type": "code",
      "source": [
        "mean = df.mean()\n",
        "print(mean.compute())"
      ],
      "metadata": {
        "colab": {
          "base_uri": "https://localhost:8080/"
        },
        "id": "wuNJT_nFTBmP",
        "outputId": "fe8ed784-b441-42af-9a84-27a31907496c"
      },
      "execution_count": 160,
      "outputs": [
        {
          "output_type": "stream",
          "name": "stdout",
          "text": [
            "CÓDIGO_MUNICIPIO               38697.935429\n",
            "CÓDIGO_DEPARTAMENTO               38.264198\n",
            "TASA_MATRICULACIÓN_5_16           85.043006\n",
            "COBERTURA_NETA                    85.740056\n",
            "COBERTURA_NETA_TRANSICIÓN         57.098376\n",
            "COBERTURA_NETA_PRIMARIA           82.844855\n",
            "COBERTURA_NETA_SECUNDARIA         69.641950\n",
            "COBERTURA_NETA_MEDIA              39.938921\n",
            "COBERTURA_BRUTA                   98.059027\n",
            "COBERTURA_BRUTA_TRANSICIÓN        86.764201\n",
            "COBERTURA_BRUTA_PRIMARIA         106.431989\n",
            "COBERTURA_BRUTA_SECUNDARIA       101.457545\n",
            "COBERTURA_BRUTA_MEDIA             74.861419\n",
            "TAMAÑO_PROMEDIO_DE_GRUPO        5908.838508\n",
            "SEDES_CONECTADAS_A_INTERNET       34.831424\n",
            "DESERCIÓN                          3.418329\n",
            "DESERCIÓN_TRANSICIÓN               3.392673\n",
            "DESERCIÓN_PRIMARIA                 2.713315\n",
            "DESERCIÓN_SECUNDARIA               4.479580\n",
            "DESERCIÓN_MEDIA                    3.437073\n",
            "APROBACIÓN                        91.987078\n",
            "APROBACIÓN_TRANSICIÓN             96.087689\n",
            "APROBACIÓN_PRIMARIA               93.520603\n",
            "APROBACIÓN_SECUNDARIA             88.983721\n",
            "APROBACIÓN_MEDIA                  92.407548\n",
            "REPROBACIÓN                        4.437508\n",
            "REPROBACIÓN_TRANSICIÓN             0.503794\n",
            "REPROBACIÓN_PRIMARIA               3.608439\n",
            "REPROBACIÓN_SECUNDARIA             6.305304\n",
            "REPROBACIÓN_MEDIA                  3.957156\n",
            "REPITENCIA                         2.448902\n",
            "REPITENCIA_TRANSICIÓN              0.642603\n",
            "REPITENCIA_PRIMARIA                2.241409\n",
            "REPITENCIA_SECUNDARIA              3.307769\n",
            "REPITENCIA_MEDIA                   1.335237\n",
            "dtype: float64\n"
          ]
        }
      ]
    },
    {
      "cell_type": "markdown",
      "source": [
        "Veamos que hay variables numéricas que pueden llegar a alterar nuestro trabajo, tal como los código de municipio y departamento, además ciertas variables repetitivas tales como las de deserción por niveles que pueden llevar a la filtración de datos y sobreajuste.\n",
        "\n",
        "Finalmente comenzamos nuestra limpieza de datos retirando estas columnas repetitivas:"
      ],
      "metadata": {
        "id": "LtJEjC_UhO7G"
      }
    },
    {
      "cell_type": "code",
      "source": [
        "columnasNOIMP = ['AÑO','CÓDIGO_MUNICIPIO','CÓDIGO_DEPARTAMENTO','CÓDIGO_ETC','ETC','COBERTURA_NETA','COBERTURA_BRUTA',\n",
        "                 'DESERCIÓN_TRANSICIÓN','DESERCIÓN_PRIMARIA','DESERCIÓN_SECUNDARIA','DESERCIÓN_MEDIA','APROBACIÓN',\n",
        "                 'REPROBACIÓN','REPITENCIA','POBLACIÓN_5_16']"
      ],
      "metadata": {
        "id": "T7nuy44oS7Jv"
      },
      "execution_count": 161,
      "outputs": []
    },
    {
      "cell_type": "code",
      "source": [
        "df = df.drop(columnasNOIMP, axis=1)"
      ],
      "metadata": {
        "id": "EXQ0nU_pUQfT"
      },
      "execution_count": 162,
      "outputs": []
    },
    {
      "cell_type": "code",
      "source": [
        "print(df.dtypes)"
      ],
      "metadata": {
        "colab": {
          "base_uri": "https://localhost:8080/"
        },
        "id": "l36vXBaRUnin",
        "outputId": "e7de7547-3535-4e77-b6a0-993ba3a23a23"
      },
      "execution_count": 163,
      "outputs": [
        {
          "output_type": "stream",
          "name": "stdout",
          "text": [
            "MUNICIPIO                       object\n",
            "DEPARTAMENTO                    object\n",
            "TASA_MATRICULACIÓN_5_16        float64\n",
            "COBERTURA_NETA_TRANSICIÓN      float64\n",
            "COBERTURA_NETA_PRIMARIA        float64\n",
            "COBERTURA_NETA_SECUNDARIA      float64\n",
            "COBERTURA_NETA_MEDIA           float64\n",
            "COBERTURA_BRUTA_TRANSICIÓN     float64\n",
            "COBERTURA_BRUTA_PRIMARIA       float64\n",
            "COBERTURA_BRUTA_SECUNDARIA     float64\n",
            "COBERTURA_BRUTA_MEDIA          float64\n",
            "TAMAÑO_PROMEDIO_DE_GRUPO       float64\n",
            "SEDES_CONECTADAS_A_INTERNET    float64\n",
            "DESERCIÓN                      float64\n",
            "APROBACIÓN_TRANSICIÓN          float64\n",
            "APROBACIÓN_PRIMARIA            float64\n",
            "APROBACIÓN_SECUNDARIA          float64\n",
            "APROBACIÓN_MEDIA               float64\n",
            "REPROBACIÓN_TRANSICIÓN         float64\n",
            "REPROBACIÓN_PRIMARIA           float64\n",
            "REPROBACIÓN_SECUNDARIA         float64\n",
            "REPROBACIÓN_MEDIA              float64\n",
            "REPITENCIA_TRANSICIÓN          float64\n",
            "REPITENCIA_PRIMARIA            float64\n",
            "REPITENCIA_SECUNDARIA          float64\n",
            "REPITENCIA_MEDIA               float64\n",
            "dtype: object\n"
          ]
        }
      ]
    },
    {
      "cell_type": "markdown",
      "source": [
        "Podemos generar un nuevo describe para ver nuestro nuevo conjunto de datos de manera general."
      ],
      "metadata": {
        "id": "XMDRoaMFjNkl"
      }
    },
    {
      "cell_type": "code",
      "source": [
        "desc = df.describe(include=\"all\")\n",
        "print(desc.compute())"
      ],
      "metadata": {
        "colab": {
          "base_uri": "https://localhost:8080/"
        },
        "id": "dUDKk5SNVC9R",
        "outputId": "572ab304-ffd2-4950-8315-eb840967e3df"
      },
      "execution_count": 164,
      "outputs": [
        {
          "output_type": "stream",
          "name": "stdout",
          "text": [
            "         MUNICIPIO DEPARTAMENTO  TASA_MATRICULACIÓN_5_16  \\\n",
            "unique        1037           36                      NaN   \n",
            "count        12343        12343             12228.000000   \n",
            "top     Villanueva    Antioquia                      NaN   \n",
            "freq            44         1375                      NaN   \n",
            "mean           NaN          NaN                85.043006   \n",
            "std            NaN          NaN                19.083367   \n",
            "min            NaN          NaN                 0.000000   \n",
            "25%            NaN          NaN                74.547500   \n",
            "50%            NaN          NaN                85.500000   \n",
            "75%            NaN          NaN                95.800000   \n",
            "max            NaN          NaN               279.030000   \n",
            "\n",
            "        COBERTURA_NETA_TRANSICIÓN  COBERTURA_NETA_PRIMARIA  \\\n",
            "unique                        NaN                      NaN   \n",
            "count                12291.000000             12252.000000   \n",
            "top                           NaN                      NaN   \n",
            "freq                          NaN                      NaN   \n",
            "mean                    57.098376                82.844855   \n",
            "std                     16.406169                17.560026   \n",
            "min                      0.000000                 0.000000   \n",
            "25%                     46.715000                73.430000   \n",
            "50%                     57.320000                83.200000   \n",
            "75%                     67.560000                92.460000   \n",
            "max                    150.470000               254.960000   \n",
            "\n",
            "        COBERTURA_NETA_SECUNDARIA  COBERTURA_NETA_MEDIA  \\\n",
            "unique                        NaN                   NaN   \n",
            "count                12249.000000          12250.000000   \n",
            "top                           NaN                   NaN   \n",
            "freq                          NaN                   NaN   \n",
            "mean                    69.641950             39.938921   \n",
            "std                     19.010258             15.537797   \n",
            "min                      0.000000              0.000000   \n",
            "25%                     60.000000             30.142500   \n",
            "50%                     70.700000             40.400000   \n",
            "75%                     80.490000             49.700000   \n",
            "max                    229.440000            170.260000   \n",
            "\n",
            "        COBERTURA_BRUTA_TRANSICIÓN  COBERTURA_BRUTA_PRIMARIA  \\\n",
            "unique                         NaN                       NaN   \n",
            "count                 12246.000000              12262.000000   \n",
            "top                            NaN                       NaN   \n",
            "freq                           NaN                       NaN   \n",
            "mean                     86.764201                106.431989   \n",
            "std                      26.284966                 25.945624   \n",
            "min                       0.000000                  0.000000   \n",
            "25%                      70.670000                 90.982500   \n",
            "50%                      84.530000                104.930000   \n",
            "75%                      99.600000                119.400000   \n",
            "max                     259.290000                326.400000   \n",
            "\n",
            "        COBERTURA_BRUTA_SECUNDARIA  ...  APROBACIÓN_SECUNDARIA  \\\n",
            "unique                         NaN  ...                    NaN   \n",
            "count                 12255.000000  ...           12289.000000   \n",
            "top                            NaN  ...                    NaN   \n",
            "freq                           NaN  ...                    NaN   \n",
            "mean                    101.457545  ...              88.983721   \n",
            "std                      26.343978  ...               7.759841   \n",
            "min                       0.000000  ...               0.000000   \n",
            "25%                      86.435000  ...              84.380000   \n",
            "50%                     102.010000  ...              89.980000   \n",
            "75%                     116.510000  ...              95.070000   \n",
            "max                     301.710000  ...             100.000000   \n",
            "\n",
            "        APROBACIÓN_MEDIA  REPROBACIÓN_TRANSICIÓN  REPROBACIÓN_PRIMARIA  \\\n",
            "unique               NaN                     NaN                   NaN   \n",
            "count       12242.000000            12250.000000          12246.000000   \n",
            "top                  NaN                     NaN                   NaN   \n",
            "freq                 NaN                     NaN                   NaN   \n",
            "mean           92.407548                0.503794              3.608439   \n",
            "std             6.621753                1.737418              3.767198   \n",
            "min             0.000000                0.000000              0.000000   \n",
            "25%            89.680000                0.000000              0.070000   \n",
            "50%            93.600000                0.000000              2.890000   \n",
            "75%            96.720000                0.200000              5.710000   \n",
            "max           100.000000               52.710000             51.970000   \n",
            "\n",
            "        REPROBACIÓN_SECUNDARIA  REPROBACIÓN_MEDIA  REPITENCIA_TRANSICIÓN  \\\n",
            "unique                     NaN                NaN                    NaN   \n",
            "count             12237.000000       12198.000000           12184.000000   \n",
            "top                        NaN                NaN                    NaN   \n",
            "freq                       NaN                NaN                    NaN   \n",
            "mean                  6.305304           3.957156               0.642603   \n",
            "std                   6.175168           4.235287               1.691139   \n",
            "min                   0.000000           0.000000               0.000000   \n",
            "25%                   0.140000           0.450000               0.000000   \n",
            "50%                   5.240000           2.750000               0.000000   \n",
            "75%                  10.140000           6.227500               0.660000   \n",
            "max                  76.970000          67.860000              33.070000   \n",
            "\n",
            "        REPITENCIA_PRIMARIA  REPITENCIA_SECUNDARIA  REPITENCIA_MEDIA  \n",
            "unique                  NaN                    NaN               NaN  \n",
            "count          12195.000000           12191.000000      12204.000000  \n",
            "top                     NaN                    NaN               NaN  \n",
            "freq                    NaN                    NaN               NaN  \n",
            "mean               2.241409               3.307769          1.335237  \n",
            "std                2.583389               3.767219          1.995160  \n",
            "min                0.000000               0.000000          0.000000  \n",
            "25%                0.450000               0.530000          0.000000  \n",
            "50%                1.430000               2.010000          0.610000  \n",
            "75%                3.200000               4.900000          1.890000  \n",
            "max               50.760000              55.070000         36.450000  \n",
            "\n",
            "[11 rows x 26 columns]\n"
          ]
        }
      ]
    },
    {
      "cell_type": "markdown",
      "source": [
        "Veamos ahora que columnas presentan valores nulos en nuestro conjunto de datos."
      ],
      "metadata": {
        "id": "uAygmJ1RjiYF"
      }
    },
    {
      "cell_type": "code",
      "source": [
        "nulos_por_columna = df.isnull().sum()\n",
        "print(nulos_por_columna.compute())"
      ],
      "metadata": {
        "colab": {
          "base_uri": "https://localhost:8080/"
        },
        "id": "4tc0OLkQVHwN",
        "outputId": "a052c5b3-1923-4962-a893-60ba2c064f4f"
      },
      "execution_count": 165,
      "outputs": [
        {
          "output_type": "stream",
          "name": "stdout",
          "text": [
            "MUNICIPIO                         0\n",
            "DEPARTAMENTO                      0\n",
            "TASA_MATRICULACIÓN_5_16         115\n",
            "COBERTURA_NETA_TRANSICIÓN        52\n",
            "COBERTURA_NETA_PRIMARIA          91\n",
            "COBERTURA_NETA_SECUNDARIA        94\n",
            "COBERTURA_NETA_MEDIA             93\n",
            "COBERTURA_BRUTA_TRANSICIÓN       97\n",
            "COBERTURA_BRUTA_PRIMARIA         81\n",
            "COBERTURA_BRUTA_SECUNDARIA       88\n",
            "COBERTURA_BRUTA_MEDIA           127\n",
            "TAMAÑO_PROMEDIO_DE_GRUPO       4771\n",
            "SEDES_CONECTADAS_A_INTERNET    4575\n",
            "DESERCIÓN                       142\n",
            "APROBACIÓN_TRANSICIÓN            25\n",
            "APROBACIÓN_PRIMARIA              25\n",
            "APROBACIÓN_SECUNDARIA            54\n",
            "APROBACIÓN_MEDIA                101\n",
            "REPROBACIÓN_TRANSICIÓN           93\n",
            "REPROBACIÓN_PRIMARIA             97\n",
            "REPROBACIÓN_SECUNDARIA          106\n",
            "REPROBACIÓN_MEDIA               145\n",
            "REPITENCIA_TRANSICIÓN           159\n",
            "REPITENCIA_PRIMARIA             148\n",
            "REPITENCIA_SECUNDARIA           152\n",
            "REPITENCIA_MEDIA                139\n",
            "dtype: int64\n"
          ]
        }
      ]
    },
    {
      "cell_type": "markdown",
      "source": [
        "Todas las columnas con valores nulos son numéricas, es por esto que si podemos separar el conjunto de datos en dos subconjuntos: Uno de variables numéricas y otro de categoricas."
      ],
      "metadata": {
        "id": "TzOYykxKjp1y"
      }
    },
    {
      "cell_type": "code",
      "source": [
        "df_cat = df[['MUNICIPIO','DEPARTAMENTO']]\n",
        "print(df_cat.compute())"
      ],
      "metadata": {
        "colab": {
          "base_uri": "https://localhost:8080/"
        },
        "id": "Inx4d-Hty6X8",
        "outputId": "37b2969d-83bf-4ffc-f874-d20cfbc696ff"
      },
      "execution_count": 166,
      "outputs": [
        {
          "output_type": "stream",
          "name": "stdout",
          "text": [
            "            MUNICIPIO DEPARTAMENTO\n",
            "0            Medellín    Antioquia\n",
            "1           Abejorral    Antioquia\n",
            "2            Abriaquí    Antioquia\n",
            "3          Alejandría    Antioquia\n",
            "4               Amagá    Antioquia\n",
            "...               ...          ...\n",
            "12338        Yavaraté       Vaupés\n",
            "12339  Puerto Carreño      Vichada\n",
            "12340    La Primavera      Vichada\n",
            "12341   Santa Rosalía      Vichada\n",
            "12342        Cumaribo      Vichada\n",
            "\n",
            "[12343 rows x 2 columns]\n"
          ]
        }
      ]
    },
    {
      "cell_type": "code",
      "source": [
        "df_num = df.iloc[:, 2:]\n",
        "print(df_num.compute())"
      ],
      "metadata": {
        "colab": {
          "base_uri": "https://localhost:8080/"
        },
        "id": "6XhiPFRkzmfL",
        "outputId": "d774d770-a07e-436c-cb6c-847e848cd3b5"
      },
      "execution_count": 167,
      "outputs": [
        {
          "output_type": "stream",
          "name": "stdout",
          "text": [
            "       TASA_MATRICULACIÓN_5_16  COBERTURA_NETA_TRANSICIÓN  \\\n",
            "0                       108.73                      79.80   \n",
            "1                        97.81                      50.60   \n",
            "2                        88.61                      66.70   \n",
            "3                       118.52                      82.70   \n",
            "4                        78.65                      55.30   \n",
            "...                        ...                        ...   \n",
            "12338                    48.62                      31.43   \n",
            "12339                   127.24                     102.19   \n",
            "12340                    98.05                      57.37   \n",
            "12341                    87.86                      53.57   \n",
            "12342                    42.72                      30.62   \n",
            "\n",
            "       COBERTURA_NETA_PRIMARIA  COBERTURA_NETA_SECUNDARIA  \\\n",
            "0                       107.20                      94.80   \n",
            "1                       111.30                      74.20   \n",
            "2                        93.20                      79.30   \n",
            "3                       127.60                      90.20   \n",
            "4                        76.30                      70.70   \n",
            "...                        ...                        ...   \n",
            "12338                    50.00                      24.24   \n",
            "12339                   134.97                      73.74   \n",
            "12340                    98.84                      63.43   \n",
            "12341                    86.38                      59.90   \n",
            "12342                    47.51                      12.86   \n",
            "\n",
            "       COBERTURA_NETA_MEDIA  COBERTURA_BRUTA_TRANSICIÓN  \\\n",
            "0                     59.70                       95.40   \n",
            "1                     36.30                       76.20   \n",
            "2                     35.30                       82.10   \n",
            "3                     48.50                       86.50   \n",
            "4                     38.90                       74.30   \n",
            "...                     ...                         ...   \n",
            "12338                 14.29                       80.00   \n",
            "12339                 31.38                      136.98   \n",
            "12340                 32.61                       98.95   \n",
            "12341                 22.40                       96.43   \n",
            "12342                  2.82                       45.18   \n",
            "\n",
            "       COBERTURA_BRUTA_PRIMARIA  COBERTURA_BRUTA_SECUNDARIA  \\\n",
            "0                        127.30                      137.50   \n",
            "1                        132.90                      103.00   \n",
            "2                        107.40                      116.60   \n",
            "3                        159.80                      140.80   \n",
            "4                         89.80                       96.30   \n",
            "...                         ...                         ...   \n",
            "12338                     75.44                       36.36   \n",
            "12339                    187.22                      110.28   \n",
            "12340                    134.59                      101.94   \n",
            "12341                    123.37                       89.59   \n",
            "12342                     76.70                       27.95   \n",
            "\n",
            "       COBERTURA_BRUTA_MEDIA  TAMAÑO_PROMEDIO_DE_GRUPO  ...  \\\n",
            "0                     111.20                     31.55  ...   \n",
            "1                      69.00                     21.02  ...   \n",
            "2                      78.80                     19.15  ...   \n",
            "3                      94.00                     32.14  ...   \n",
            "4                      73.20                     25.05  ...   \n",
            "...                      ...                       ...  ...   \n",
            "12338                  36.90                       NaN  ...   \n",
            "12339                  64.76                       NaN  ...   \n",
            "12340                  64.01                       NaN  ...   \n",
            "12341                  46.45                       NaN  ...   \n",
            "12342                  13.09                       NaN  ...   \n",
            "\n",
            "       APROBACIÓN_SECUNDARIA  APROBACIÓN_MEDIA  REPROBACIÓN_TRANSICIÓN  \\\n",
            "0                      95.67             96.88                    0.00   \n",
            "1                      90.41             90.33                    0.00   \n",
            "2                      84.82             89.55                    0.00   \n",
            "3                      87.15             83.93                    0.00   \n",
            "4                      79.42             89.34                    0.24   \n",
            "...                      ...               ...                     ...   \n",
            "12338                  83.33             83.87                    0.00   \n",
            "12339                  82.39             89.72                    0.00   \n",
            "12340                  91.70             93.96                    0.00   \n",
            "12341                  84.09             97.65                    0.00   \n",
            "12342                  80.28             91.03                    0.10   \n",
            "\n",
            "       REPROBACIÓN_PRIMARIA  REPROBACIÓN_SECUNDARIA  REPROBACIÓN_MEDIA  \\\n",
            "0                      0.00                    0.01               0.17   \n",
            "1                      1.23                    2.96               1.18   \n",
            "2                      1.47                   14.66               7.46   \n",
            "3                      2.16                    4.39               8.04   \n",
            "4                      6.73                   14.46               7.45   \n",
            "...                     ...                     ...                ...   \n",
            "12338                 18.02                    8.33               3.23   \n",
            "12339                  8.27                   16.44               9.51   \n",
            "12340                  7.06                    4.37               1.89   \n",
            "12341                 11.37                   10.80               1.18   \n",
            "12342                 19.19                   15.49               6.56   \n",
            "\n",
            "       REPITENCIA_TRANSICIÓN  REPITENCIA_PRIMARIA  REPITENCIA_SECUNDARIA  \\\n",
            "0                       0.15                 3.26                   7.44   \n",
            "1                       0.00                 0.85                   1.08   \n",
            "2                       3.13                 1.47                   2.22   \n",
            "3                       0.00                 0.96                   0.00   \n",
            "4                       0.00                 0.24                   0.91   \n",
            "...                      ...                  ...                    ...   \n",
            "12338                  17.86                 4.07                   5.56   \n",
            "12339                   0.20                 9.60                  13.65   \n",
            "12340                   0.00                13.32                   4.71   \n",
            "12341                   0.00                13.51                  12.18   \n",
            "12342                   0.00                24.29                   8.41   \n",
            "\n",
            "       REPITENCIA_MEDIA  \n",
            "0                  2.95  \n",
            "1                  1.23  \n",
            "2                  0.00  \n",
            "3                  0.00  \n",
            "4                  0.00  \n",
            "...                 ...  \n",
            "12338              0.00  \n",
            "12339              5.14  \n",
            "12340              4.15  \n",
            "12341              2.35  \n",
            "12342              3.06  \n",
            "\n",
            "[12343 rows x 24 columns]\n"
          ]
        }
      ]
    },
    {
      "cell_type": "markdown",
      "source": [
        "Ahora sí podemos llenar los valores nulos de cada una de las columnas numéricas con el promedio de la misma columna."
      ],
      "metadata": {
        "id": "Lm7Xp3Bcj6PU"
      }
    },
    {
      "cell_type": "code",
      "source": [
        "columnas_numericas = df_num.select_dtypes(include='number').columns\n",
        "promedios = df[columnas_numericas].mean()\n",
        "df_num = df_num.fillna(promedios)"
      ],
      "metadata": {
        "id": "a5ycmVi2Vxoj"
      },
      "execution_count": 168,
      "outputs": []
    },
    {
      "cell_type": "markdown",
      "source": [
        "Y así nuestro conjunto de datos no tiene valores nulos, como podemos verificar a continuación."
      ],
      "metadata": {
        "id": "ffPtex7skNkA"
      }
    },
    {
      "cell_type": "code",
      "source": [
        "print(df_num.isnull().sum().compute())"
      ],
      "metadata": {
        "colab": {
          "base_uri": "https://localhost:8080/"
        },
        "id": "1YqmgAC8V4nh",
        "outputId": "bf9ebd56-a31f-4336-fd63-c09088d3ff58"
      },
      "execution_count": 169,
      "outputs": [
        {
          "output_type": "stream",
          "name": "stdout",
          "text": [
            "TASA_MATRICULACIÓN_5_16        0\n",
            "COBERTURA_NETA_TRANSICIÓN      0\n",
            "COBERTURA_NETA_PRIMARIA        0\n",
            "COBERTURA_NETA_SECUNDARIA      0\n",
            "COBERTURA_NETA_MEDIA           0\n",
            "COBERTURA_BRUTA_TRANSICIÓN     0\n",
            "COBERTURA_BRUTA_PRIMARIA       0\n",
            "COBERTURA_BRUTA_SECUNDARIA     0\n",
            "COBERTURA_BRUTA_MEDIA          0\n",
            "TAMAÑO_PROMEDIO_DE_GRUPO       0\n",
            "SEDES_CONECTADAS_A_INTERNET    0\n",
            "DESERCIÓN                      0\n",
            "APROBACIÓN_TRANSICIÓN          0\n",
            "APROBACIÓN_PRIMARIA            0\n",
            "APROBACIÓN_SECUNDARIA          0\n",
            "APROBACIÓN_MEDIA               0\n",
            "REPROBACIÓN_TRANSICIÓN         0\n",
            "REPROBACIÓN_PRIMARIA           0\n",
            "REPROBACIÓN_SECUNDARIA         0\n",
            "REPROBACIÓN_MEDIA              0\n",
            "REPITENCIA_TRANSICIÓN          0\n",
            "REPITENCIA_PRIMARIA            0\n",
            "REPITENCIA_SECUNDARIA          0\n",
            "REPITENCIA_MEDIA               0\n",
            "dtype: int64\n"
          ]
        }
      ]
    },
    {
      "cell_type": "markdown",
      "source": [
        "Podemos ahora comenzar con el preprocesamiento de los datos, lo primero que haremos será separar nuestra variable objetivo:"
      ],
      "metadata": {
        "id": "Kc0nGuAnknxF"
      }
    },
    {
      "cell_type": "code",
      "source": [
        "y = df_num[['DESERCIÓN']]\n",
        "df_num = df_num.drop('DESERCIÓN',axis =1)"
      ],
      "metadata": {
        "id": "6xg5hXW20PTY"
      },
      "execution_count": 171,
      "outputs": []
    },
    {
      "cell_type": "markdown",
      "source": [
        "Veamos los dos conjuntos de datos que tenemos, numérico y categórico, esto con el objetivo de familiarizarnos con ellos."
      ],
      "metadata": {
        "id": "ZZ3ELY-Mkyl3"
      }
    },
    {
      "cell_type": "code",
      "source": [
        "print(df_num.compute())"
      ],
      "metadata": {
        "colab": {
          "base_uri": "https://localhost:8080/"
        },
        "id": "fIyAMmdn0oTE",
        "outputId": "abef3553-27ef-4e44-fd11-f86b177601af"
      },
      "execution_count": 172,
      "outputs": [
        {
          "output_type": "stream",
          "name": "stdout",
          "text": [
            "       TASA_MATRICULACIÓN_5_16  COBERTURA_NETA_TRANSICIÓN  \\\n",
            "0                       108.73                      79.80   \n",
            "1                        97.81                      50.60   \n",
            "2                        88.61                      66.70   \n",
            "3                       118.52                      82.70   \n",
            "4                        78.65                      55.30   \n",
            "...                        ...                        ...   \n",
            "12338                    48.62                      31.43   \n",
            "12339                   127.24                     102.19   \n",
            "12340                    98.05                      57.37   \n",
            "12341                    87.86                      53.57   \n",
            "12342                    42.72                      30.62   \n",
            "\n",
            "       COBERTURA_NETA_PRIMARIA  COBERTURA_NETA_SECUNDARIA  \\\n",
            "0                       107.20                      94.80   \n",
            "1                       111.30                      74.20   \n",
            "2                        93.20                      79.30   \n",
            "3                       127.60                      90.20   \n",
            "4                        76.30                      70.70   \n",
            "...                        ...                        ...   \n",
            "12338                    50.00                      24.24   \n",
            "12339                   134.97                      73.74   \n",
            "12340                    98.84                      63.43   \n",
            "12341                    86.38                      59.90   \n",
            "12342                    47.51                      12.86   \n",
            "\n",
            "       COBERTURA_NETA_MEDIA  COBERTURA_BRUTA_TRANSICIÓN  \\\n",
            "0                     59.70                       95.40   \n",
            "1                     36.30                       76.20   \n",
            "2                     35.30                       82.10   \n",
            "3                     48.50                       86.50   \n",
            "4                     38.90                       74.30   \n",
            "...                     ...                         ...   \n",
            "12338                 14.29                       80.00   \n",
            "12339                 31.38                      136.98   \n",
            "12340                 32.61                       98.95   \n",
            "12341                 22.40                       96.43   \n",
            "12342                  2.82                       45.18   \n",
            "\n",
            "       COBERTURA_BRUTA_PRIMARIA  COBERTURA_BRUTA_SECUNDARIA  \\\n",
            "0                        127.30                      137.50   \n",
            "1                        132.90                      103.00   \n",
            "2                        107.40                      116.60   \n",
            "3                        159.80                      140.80   \n",
            "4                         89.80                       96.30   \n",
            "...                         ...                         ...   \n",
            "12338                     75.44                       36.36   \n",
            "12339                    187.22                      110.28   \n",
            "12340                    134.59                      101.94   \n",
            "12341                    123.37                       89.59   \n",
            "12342                     76.70                       27.95   \n",
            "\n",
            "       COBERTURA_BRUTA_MEDIA  TAMAÑO_PROMEDIO_DE_GRUPO  ...  \\\n",
            "0                     111.20                 31.550000  ...   \n",
            "1                      69.00                 21.020000  ...   \n",
            "2                      78.80                 19.150000  ...   \n",
            "3                      94.00                 32.140000  ...   \n",
            "4                      73.20                 25.050000  ...   \n",
            "...                      ...                       ...  ...   \n",
            "12338                  36.90               5908.838508  ...   \n",
            "12339                  64.76               5908.838508  ...   \n",
            "12340                  64.01               5908.838508  ...   \n",
            "12341                  46.45               5908.838508  ...   \n",
            "12342                  13.09               5908.838508  ...   \n",
            "\n",
            "       APROBACIÓN_SECUNDARIA  APROBACIÓN_MEDIA  REPROBACIÓN_TRANSICIÓN  \\\n",
            "0                      95.67             96.88                    0.00   \n",
            "1                      90.41             90.33                    0.00   \n",
            "2                      84.82             89.55                    0.00   \n",
            "3                      87.15             83.93                    0.00   \n",
            "4                      79.42             89.34                    0.24   \n",
            "...                      ...               ...                     ...   \n",
            "12338                  83.33             83.87                    0.00   \n",
            "12339                  82.39             89.72                    0.00   \n",
            "12340                  91.70             93.96                    0.00   \n",
            "12341                  84.09             97.65                    0.00   \n",
            "12342                  80.28             91.03                    0.10   \n",
            "\n",
            "       REPROBACIÓN_PRIMARIA  REPROBACIÓN_SECUNDARIA  REPROBACIÓN_MEDIA  \\\n",
            "0                      0.00                    0.01               0.17   \n",
            "1                      1.23                    2.96               1.18   \n",
            "2                      1.47                   14.66               7.46   \n",
            "3                      2.16                    4.39               8.04   \n",
            "4                      6.73                   14.46               7.45   \n",
            "...                     ...                     ...                ...   \n",
            "12338                 18.02                    8.33               3.23   \n",
            "12339                  8.27                   16.44               9.51   \n",
            "12340                  7.06                    4.37               1.89   \n",
            "12341                 11.37                   10.80               1.18   \n",
            "12342                 19.19                   15.49               6.56   \n",
            "\n",
            "       REPITENCIA_TRANSICIÓN  REPITENCIA_PRIMARIA  REPITENCIA_SECUNDARIA  \\\n",
            "0                       0.15                 3.26                   7.44   \n",
            "1                       0.00                 0.85                   1.08   \n",
            "2                       3.13                 1.47                   2.22   \n",
            "3                       0.00                 0.96                   0.00   \n",
            "4                       0.00                 0.24                   0.91   \n",
            "...                      ...                  ...                    ...   \n",
            "12338                  17.86                 4.07                   5.56   \n",
            "12339                   0.20                 9.60                  13.65   \n",
            "12340                   0.00                13.32                   4.71   \n",
            "12341                   0.00                13.51                  12.18   \n",
            "12342                   0.00                24.29                   8.41   \n",
            "\n",
            "       REPITENCIA_MEDIA  \n",
            "0                  2.95  \n",
            "1                  1.23  \n",
            "2                  0.00  \n",
            "3                  0.00  \n",
            "4                  0.00  \n",
            "...                 ...  \n",
            "12338              0.00  \n",
            "12339              5.14  \n",
            "12340              4.15  \n",
            "12341              2.35  \n",
            "12342              3.06  \n",
            "\n",
            "[12343 rows x 23 columns]\n"
          ]
        }
      ]
    },
    {
      "cell_type": "code",
      "source": [
        "print(y.compute())"
      ],
      "metadata": {
        "colab": {
          "base_uri": "https://localhost:8080/"
        },
        "id": "J0kPUGbA_rAv",
        "outputId": "3f8cb0c2-d112-4a09-a13f-9b4c86316c8e"
      },
      "execution_count": 105,
      "outputs": [
        {
          "output_type": "stream",
          "name": "stdout",
          "text": [
            "       DESERCIÓN\n",
            "0           3.69\n",
            "1           6.26\n",
            "2           0.81\n",
            "3           4.03\n",
            "4           4.16\n",
            "...          ...\n",
            "12338       4.95\n",
            "12339       2.36\n",
            "12340       3.51\n",
            "12341       3.47\n",
            "12342       3.28\n",
            "\n",
            "[12343 rows x 1 columns]\n"
          ]
        }
      ]
    },
    {
      "cell_type": "markdown",
      "source": [
        "Comenzando con el preprocesamiento de las variables numéricas, utilizaremos el StandardScaler para estandarizar los valores."
      ],
      "metadata": {
        "id": "TL8bXMNjyFug"
      }
    },
    {
      "cell_type": "code",
      "source": [
        "from dask_ml.preprocessing import StandardScaler\n",
        "norm = StandardScaler().fit(df_num)"
      ],
      "metadata": {
        "id": "clAi0q_qyKQN"
      },
      "execution_count": 173,
      "outputs": []
    },
    {
      "cell_type": "markdown",
      "source": [
        "Transformamos nuestros datos y los visualizamos para confirmar que efectivamente se hayan preprocesado:"
      ],
      "metadata": {
        "id": "OeinyjUVlOWJ"
      }
    },
    {
      "cell_type": "code",
      "source": [
        "df_num_prepro = norm.transform(df_num)\n",
        "print(df_num_prepro.compute())"
      ],
      "metadata": {
        "colab": {
          "base_uri": "https://localhost:8080/"
        },
        "id": "DqyeYrEpyXCO",
        "outputId": "a01b2b90-f8f5-46bf-c3b4-55713c155f51"
      },
      "execution_count": 174,
      "outputs": [
        {
          "output_type": "stream",
          "name": "stdout",
          "text": [
            "       TASA_MATRICULACIÓN_5_16  COBERTURA_NETA_TRANSICIÓN  \\\n",
            "0                     1.247112                   1.386705   \n",
            "1                     0.672178                  -0.396947   \n",
            "2                     0.187801                   0.586505   \n",
            "3                     1.762552                   1.563849   \n",
            "4                    -0.336589                  -0.109852   \n",
            "...                        ...                        ...   \n",
            "12338                -1.917658                  -1.567926   \n",
            "12339                 2.221657                   2.754375   \n",
            "12340                 0.684814                   0.016592   \n",
            "12341                 0.148314                  -0.215527   \n",
            "12342                -2.228291                  -1.617404   \n",
            "\n",
            "       COBERTURA_NETA_PRIMARIA  COBERTURA_NETA_SECUNDARIA  \\\n",
            "0                     1.392163                   1.328516   \n",
            "1                     1.626523                   0.240696   \n",
            "2                     0.591910                   0.510011   \n",
            "3                     2.558247                   1.085605   \n",
            "4                    -0.374110                   0.055872   \n",
            "...                        ...                        ...   \n",
            "12338                -1.877443                  -2.397531   \n",
            "12339                 2.979523                   0.216405   \n",
            "12340                 0.914298                  -0.328033   \n",
            "12341                 0.202072                  -0.514441   \n",
            "12342                -2.019774                  -2.998473   \n",
            "\n",
            "       COBERTURA_NETA_MEDIA  COBERTURA_BRUTA_TRANSICIÓN  \\\n",
            "0                  1.276678                    0.329857   \n",
            "1                 -0.235095                   -0.403515   \n",
            "2                 -0.299701                   -0.178156   \n",
            "3                  0.553094                   -0.010092   \n",
            "4                 -0.067120                   -0.476089   \n",
            "...                     ...                         ...   \n",
            "12338             -1.657066                   -0.258369   \n",
            "12339             -0.552955                    1.918068   \n",
            "12340             -0.473490                    0.465455   \n",
            "12341             -1.133114                    0.369200   \n",
            "12342             -2.398093                   -1.588371   \n",
            "\n",
            "       COBERTURA_BRUTA_PRIMARIA  COBERTURA_BRUTA_SECUNDARIA  \\\n",
            "0                      0.806983                    1.373107   \n",
            "1                      1.023540                    0.058763   \n",
            "2                      0.037434                    0.576881   \n",
            "3                      2.063784                    1.498827   \n",
            "4                     -0.643173                   -0.196487   \n",
            "...                         ...                         ...   \n",
            "12338                 -1.198485                   -2.480017   \n",
            "12339                  3.124138                    0.336109   \n",
            "12340                  1.088893                    0.018380   \n",
            "12341                  0.655007                   -0.452117   \n",
            "12342                 -1.149760                   -2.800412   \n",
            "\n",
            "       COBERTURA_BRUTA_MEDIA  TAMAÑO_PROMEDIO_DE_GRUPO  ...  \\\n",
            "0                   1.377922                 -0.704547  ...   \n",
            "1                  -0.222259                 -0.705809  ...   \n",
            "2                   0.149347                 -0.706034  ...   \n",
            "3                   0.725715                 -0.704476  ...   \n",
            "4                  -0.062999                 -0.705326  ...   \n",
            "...                      ...                       ...  ...   \n",
            "12338              -1.439458                  0.000000  ...   \n",
            "12339              -0.383035                  0.000000  ...   \n",
            "12340              -0.411475                  0.000000  ...   \n",
            "12341              -1.077332                  0.000000  ...   \n",
            "12342              -2.342309                  0.000000  ...   \n",
            "\n",
            "       APROBACIÓN_SECUNDARIA  APROBACIÓN_MEDIA  REPROBACIÓN_TRANSICIÓN  \\\n",
            "0                   0.863578          0.678226               -0.291078   \n",
            "1                   0.184213         -0.315050               -0.291078   \n",
            "2                  -0.537772         -0.433334               -0.291078   \n",
            "3                  -0.236837         -1.285580               -0.291078   \n",
            "4                  -1.235219         -0.465179               -0.152413   \n",
            "...                      ...               ...                     ...   \n",
            "12338              -0.730216         -1.294679               -0.291078   \n",
            "12339              -0.851623         -0.407554               -0.291078   \n",
            "12340               0.350826          0.235422               -0.291078   \n",
            "12341              -0.632057          0.794993               -0.291078   \n",
            "12342              -1.124144         -0.208899               -0.233300   \n",
            "\n",
            "       REPROBACIÓN_PRIMARIA  REPROBACIÓN_SECUNDARIA  REPROBACIÓN_MEDIA  \\\n",
            "0                 -0.961683               -1.023902          -0.899527   \n",
            "1                 -0.633876               -0.544098          -0.659631   \n",
            "2                 -0.569914                1.358853           0.831997   \n",
            "3                 -0.386023               -0.311515           0.969759   \n",
            "4                  0.831925                1.326324           0.829622   \n",
            "...                     ...                     ...                ...   \n",
            "12338              3.840817                0.329307          -0.172714   \n",
            "12339              1.242350                1.648362           1.318914   \n",
            "12340              0.919874               -0.314768          -0.490992   \n",
            "12341              2.068529                0.731042          -0.659631   \n",
            "12342              4.152633                1.493849           0.618229   \n",
            "\n",
            "       REPITENCIA_TRANSICIÓN  REPITENCIA_PRIMARIA  REPITENCIA_SECUNDARIA  \\\n",
            "0                  -0.293191             0.396686               1.103754   \n",
            "1                  -0.382469            -0.541879              -0.595056   \n",
            "2                   1.480468            -0.300422              -0.290552   \n",
            "3                  -0.382469            -0.499040              -0.883533   \n",
            "4                  -0.382469            -0.779441              -0.640464   \n",
            "...                      ...                  ...                    ...   \n",
            "12338              10.247583             0.712138               0.601590   \n",
            "12339              -0.263432             2.865775               2.762498   \n",
            "12340              -0.382469             4.314515               0.374548   \n",
            "12341              -0.382469             4.388510               2.369848   \n",
            "12342              -0.382469             8.586740               1.362849   \n",
            "\n",
            "       REPITENCIA_MEDIA  \n",
            "0              0.813969  \n",
            "1             -0.053048  \n",
            "2             -0.673066  \n",
            "3             -0.673066  \n",
            "4             -0.673066  \n",
            "...                 ...  \n",
            "12338         -0.673066  \n",
            "12339          1.917904  \n",
            "12340          1.418865  \n",
            "12341          0.511522  \n",
            "12342          0.869418  \n",
            "\n",
            "[12343 rows x 23 columns]\n"
          ]
        }
      ]
    },
    {
      "cell_type": "markdown",
      "source": [
        "Con el preprocesamiento de las variables categoricas debemos tener un poco más de cuidado. Primero usaremos OneHotEncoder:"
      ],
      "metadata": {
        "id": "MQsyKret03ed"
      }
    },
    {
      "cell_type": "code",
      "source": [
        "from dask_ml.preprocessing import OneHotEncoder\n",
        "encoder = OneHotEncoder()"
      ],
      "metadata": {
        "id": "u94rc5zG5tNw"
      },
      "execution_count": 175,
      "outputs": []
    },
    {
      "cell_type": "markdown",
      "source": [
        "Debemos cambiar el tipo de datos de nuestras variables categóricas de 'object' a 'category'. Esto se debe a que al trabajar con variables categóricas, es más eficiente y conveniente utilizar el tipo de datos 'category' en lugar de 'object'."
      ],
      "metadata": {
        "id": "5qdC45fDl2_E"
      }
    },
    {
      "cell_type": "code",
      "source": [
        "df_cat['MUNICIPIO'] = df_cat['MUNICIPIO'].astype('category').cat.as_known()\n",
        "df_cat['DEPARTAMENTO'] = df_cat['DEPARTAMENTO'].astype('category').cat.as_known()"
      ],
      "metadata": {
        "id": "3F2-clkc5_Of"
      },
      "execution_count": 176,
      "outputs": []
    },
    {
      "cell_type": "markdown",
      "source": [
        "Transformamos nuestros datos con el encoder y verificamos nuestro proceso."
      ],
      "metadata": {
        "id": "VzkejzU4mOvd"
      }
    },
    {
      "cell_type": "code",
      "source": [
        "df_cat_prepro = encoder.fit_transform(df_cat)\n",
        "print(df_cat_prepro.compute())"
      ],
      "metadata": {
        "colab": {
          "base_uri": "https://localhost:8080/"
        },
        "id": "bwv29ymi7gnv",
        "outputId": "185c1e57-e09b-45c3-d31a-557dbf021fbb"
      },
      "execution_count": 177,
      "outputs": [
        {
          "output_type": "stream",
          "name": "stdout",
          "text": [
            "       MUNICIPIO_Abejorral  MUNICIPIO_Abrego  MUNICIPIO_Abriaquí  \\\n",
            "0                      0.0               0.0                 0.0   \n",
            "1                      1.0               0.0                 0.0   \n",
            "2                      0.0               0.0                 1.0   \n",
            "3                      0.0               0.0                 0.0   \n",
            "4                      0.0               0.0                 0.0   \n",
            "...                    ...               ...                 ...   \n",
            "12338                  0.0               0.0                 0.0   \n",
            "12339                  0.0               0.0                 0.0   \n",
            "12340                  0.0               0.0                 0.0   \n",
            "12341                  0.0               0.0                 0.0   \n",
            "12342                  0.0               0.0                 0.0   \n",
            "\n",
            "       MUNICIPIO_Acacías  MUNICIPIO_Acandí  MUNICIPIO_Acevedo  MUNICIPIO_Achí  \\\n",
            "0                    0.0               0.0                0.0             0.0   \n",
            "1                    0.0               0.0                0.0             0.0   \n",
            "2                    0.0               0.0                0.0             0.0   \n",
            "3                    0.0               0.0                0.0             0.0   \n",
            "4                    0.0               0.0                0.0             0.0   \n",
            "...                  ...               ...                ...             ...   \n",
            "12338                0.0               0.0                0.0             0.0   \n",
            "12339                0.0               0.0                0.0             0.0   \n",
            "12340                0.0               0.0                0.0             0.0   \n",
            "12341                0.0               0.0                0.0             0.0   \n",
            "12342                0.0               0.0                0.0             0.0   \n",
            "\n",
            "       MUNICIPIO_Agrado  MUNICIPIO_Agua de Dios  MUNICIPIO_Aguachica  ...  \\\n",
            "0                   0.0                     0.0                  0.0  ...   \n",
            "1                   0.0                     0.0                  0.0  ...   \n",
            "2                   0.0                     0.0                  0.0  ...   \n",
            "3                   0.0                     0.0                  0.0  ...   \n",
            "4                   0.0                     0.0                  0.0  ...   \n",
            "...                 ...                     ...                  ...  ...   \n",
            "12338               0.0                     0.0                  0.0  ...   \n",
            "12339               0.0                     0.0                  0.0  ...   \n",
            "12340               0.0                     0.0                  0.0  ...   \n",
            "12341               0.0                     0.0                  0.0  ...   \n",
            "12342               0.0                     0.0                  0.0  ...   \n",
            "\n",
            "       DEPARTAMENTO_Norte de Santander  DEPARTAMENTO_Putumayo  \\\n",
            "0                                  0.0                    0.0   \n",
            "1                                  0.0                    0.0   \n",
            "2                                  0.0                    0.0   \n",
            "3                                  0.0                    0.0   \n",
            "4                                  0.0                    0.0   \n",
            "...                                ...                    ...   \n",
            "12338                              0.0                    0.0   \n",
            "12339                              0.0                    0.0   \n",
            "12340                              0.0                    0.0   \n",
            "12341                              0.0                    0.0   \n",
            "12342                              0.0                    0.0   \n",
            "\n",
            "       DEPARTAMENTO_Quindio  DEPARTAMENTO_Risaralda  DEPARTAMENTO_Santander  \\\n",
            "0                       0.0                     0.0                     0.0   \n",
            "1                       0.0                     0.0                     0.0   \n",
            "2                       0.0                     0.0                     0.0   \n",
            "3                       0.0                     0.0                     0.0   \n",
            "4                       0.0                     0.0                     0.0   \n",
            "...                     ...                     ...                     ...   \n",
            "12338                   0.0                     0.0                     0.0   \n",
            "12339                   0.0                     0.0                     0.0   \n",
            "12340                   0.0                     0.0                     0.0   \n",
            "12341                   0.0                     0.0                     0.0   \n",
            "12342                   0.0                     0.0                     0.0   \n",
            "\n",
            "       DEPARTAMENTO_Sucre  DEPARTAMENTO_Tolima  DEPARTAMENTO_Valle del Cauca  \\\n",
            "0                     0.0                  0.0                           0.0   \n",
            "1                     0.0                  0.0                           0.0   \n",
            "2                     0.0                  0.0                           0.0   \n",
            "3                     0.0                  0.0                           0.0   \n",
            "4                     0.0                  0.0                           0.0   \n",
            "...                   ...                  ...                           ...   \n",
            "12338                 0.0                  0.0                           0.0   \n",
            "12339                 0.0                  0.0                           0.0   \n",
            "12340                 0.0                  0.0                           0.0   \n",
            "12341                 0.0                  0.0                           0.0   \n",
            "12342                 0.0                  0.0                           0.0   \n",
            "\n",
            "       DEPARTAMENTO_Vaupés  DEPARTAMENTO_Vichada  \n",
            "0                      0.0                   0.0  \n",
            "1                      0.0                   0.0  \n",
            "2                      0.0                   0.0  \n",
            "3                      0.0                   0.0  \n",
            "4                      0.0                   0.0  \n",
            "...                    ...                   ...  \n",
            "12338                  1.0                   0.0  \n",
            "12339                  0.0                   1.0  \n",
            "12340                  0.0                   1.0  \n",
            "12341                  0.0                   1.0  \n",
            "12342                  0.0                   1.0  \n",
            "\n",
            "[12343 rows x 1073 columns]\n"
          ]
        }
      ]
    },
    {
      "cell_type": "markdown",
      "source": [
        "Efectivamente nuestros datos categoricos han pasado ahora a ser vectores numericos, perfecto para nuestro proposito.\n",
        "\n",
        "Ahora pasaremos a juntar nuestros DataFrames y visualizar el DataFrame con el trabajaremos en la construcción del modelo."
      ],
      "metadata": {
        "id": "oaCRK_qymdxb"
      }
    },
    {
      "cell_type": "code",
      "source": [
        "df_preprotod = dd.concat([df_cat_prepro, df_num_prepro], axis=1)"
      ],
      "metadata": {
        "id": "HmhO4JmQ9DVY"
      },
      "execution_count": null,
      "outputs": []
    },
    {
      "cell_type": "code",
      "source": [
        "print(df_preprotod.compute())"
      ],
      "metadata": {
        "colab": {
          "base_uri": "https://localhost:8080/"
        },
        "id": "EqBFQ-Sn9Mlv",
        "outputId": "0e550ee8-9709-499c-c8ba-fb46d92d7fa6"
      },
      "execution_count": 179,
      "outputs": [
        {
          "output_type": "stream",
          "name": "stdout",
          "text": [
            "       MUNICIPIO_Abejorral  MUNICIPIO_Abrego  MUNICIPIO_Abriaquí  \\\n",
            "0                      0.0               0.0                 0.0   \n",
            "1                      1.0               0.0                 0.0   \n",
            "2                      0.0               0.0                 1.0   \n",
            "3                      0.0               0.0                 0.0   \n",
            "4                      0.0               0.0                 0.0   \n",
            "...                    ...               ...                 ...   \n",
            "12338                  0.0               0.0                 0.0   \n",
            "12339                  0.0               0.0                 0.0   \n",
            "12340                  0.0               0.0                 0.0   \n",
            "12341                  0.0               0.0                 0.0   \n",
            "12342                  0.0               0.0                 0.0   \n",
            "\n",
            "       MUNICIPIO_Acacías  MUNICIPIO_Acandí  MUNICIPIO_Acevedo  MUNICIPIO_Achí  \\\n",
            "0                    0.0               0.0                0.0             0.0   \n",
            "1                    0.0               0.0                0.0             0.0   \n",
            "2                    0.0               0.0                0.0             0.0   \n",
            "3                    0.0               0.0                0.0             0.0   \n",
            "4                    0.0               0.0                0.0             0.0   \n",
            "...                  ...               ...                ...             ...   \n",
            "12338                0.0               0.0                0.0             0.0   \n",
            "12339                0.0               0.0                0.0             0.0   \n",
            "12340                0.0               0.0                0.0             0.0   \n",
            "12341                0.0               0.0                0.0             0.0   \n",
            "12342                0.0               0.0                0.0             0.0   \n",
            "\n",
            "       MUNICIPIO_Agrado  MUNICIPIO_Agua de Dios  MUNICIPIO_Aguachica  ...  \\\n",
            "0                   0.0                     0.0                  0.0  ...   \n",
            "1                   0.0                     0.0                  0.0  ...   \n",
            "2                   0.0                     0.0                  0.0  ...   \n",
            "3                   0.0                     0.0                  0.0  ...   \n",
            "4                   0.0                     0.0                  0.0  ...   \n",
            "...                 ...                     ...                  ...  ...   \n",
            "12338               0.0                     0.0                  0.0  ...   \n",
            "12339               0.0                     0.0                  0.0  ...   \n",
            "12340               0.0                     0.0                  0.0  ...   \n",
            "12341               0.0                     0.0                  0.0  ...   \n",
            "12342               0.0                     0.0                  0.0  ...   \n",
            "\n",
            "       APROBACIÓN_SECUNDARIA  APROBACIÓN_MEDIA  REPROBACIÓN_TRANSICIÓN  \\\n",
            "0                   0.863578          0.678226               -0.291078   \n",
            "1                   0.184213         -0.315050               -0.291078   \n",
            "2                  -0.537772         -0.433334               -0.291078   \n",
            "3                  -0.236837         -1.285580               -0.291078   \n",
            "4                  -1.235219         -0.465179               -0.152413   \n",
            "...                      ...               ...                     ...   \n",
            "12338              -0.730216         -1.294679               -0.291078   \n",
            "12339              -0.851623         -0.407554               -0.291078   \n",
            "12340               0.350826          0.235422               -0.291078   \n",
            "12341              -0.632057          0.794993               -0.291078   \n",
            "12342              -1.124144         -0.208899               -0.233300   \n",
            "\n",
            "       REPROBACIÓN_PRIMARIA  REPROBACIÓN_SECUNDARIA  REPROBACIÓN_MEDIA  \\\n",
            "0                 -0.961683               -1.023902          -0.899527   \n",
            "1                 -0.633876               -0.544098          -0.659631   \n",
            "2                 -0.569914                1.358853           0.831997   \n",
            "3                 -0.386023               -0.311515           0.969759   \n",
            "4                  0.831925                1.326324           0.829622   \n",
            "...                     ...                     ...                ...   \n",
            "12338              3.840817                0.329307          -0.172714   \n",
            "12339              1.242350                1.648362           1.318914   \n",
            "12340              0.919874               -0.314768          -0.490992   \n",
            "12341              2.068529                0.731042          -0.659631   \n",
            "12342              4.152633                1.493849           0.618229   \n",
            "\n",
            "       REPITENCIA_TRANSICIÓN  REPITENCIA_PRIMARIA  REPITENCIA_SECUNDARIA  \\\n",
            "0                  -0.293191             0.396686               1.103754   \n",
            "1                  -0.382469            -0.541879              -0.595056   \n",
            "2                   1.480468            -0.300422              -0.290552   \n",
            "3                  -0.382469            -0.499040              -0.883533   \n",
            "4                  -0.382469            -0.779441              -0.640464   \n",
            "...                      ...                  ...                    ...   \n",
            "12338              10.247583             0.712138               0.601590   \n",
            "12339              -0.263432             2.865775               2.762498   \n",
            "12340              -0.382469             4.314515               0.374548   \n",
            "12341              -0.382469             4.388510               2.369848   \n",
            "12342              -0.382469             8.586740               1.362849   \n",
            "\n",
            "       REPITENCIA_MEDIA  \n",
            "0              0.813969  \n",
            "1             -0.053048  \n",
            "2             -0.673066  \n",
            "3             -0.673066  \n",
            "4             -0.673066  \n",
            "...                 ...  \n",
            "12338         -0.673066  \n",
            "12339          1.917904  \n",
            "12340          1.418865  \n",
            "12341          0.511522  \n",
            "12342          0.869418  \n",
            "\n",
            "[12343 rows x 1096 columns]\n"
          ]
        }
      ]
    },
    {
      "cell_type": "markdown",
      "source": [
        "Comenzamos la construcción de nuestro modelo pasando de DataFrames a arrays de Dask:"
      ],
      "metadata": {
        "id": "kDMiuQXz_ahF"
      }
    },
    {
      "cell_type": "code",
      "source": [
        "df_preprotod_arr = df_preprotod.to_dask_array(lengths=True)\n",
        "y_arr = y.to_dask_array(lengths=True)"
      ],
      "metadata": {
        "id": "36OayahbBjLH"
      },
      "execution_count": 180,
      "outputs": []
    },
    {
      "cell_type": "markdown",
      "source": [
        "Ahora dividimos nuestros arreglos en entrenamiento y prueba."
      ],
      "metadata": {
        "id": "K782ELAtngLv"
      }
    },
    {
      "cell_type": "code",
      "source": [
        "from dask_ml.model_selection import train_test_split\n",
        "X_train, X_test, y_train, y_test = train_test_split(\n",
        "        df_preprotod_arr, y_arr, test_size=0.3\n",
        "        )"
      ],
      "metadata": {
        "id": "kONVrEjX_XSQ"
      },
      "execution_count": 182,
      "outputs": []
    },
    {
      "cell_type": "markdown",
      "source": [
        "Como hemos mencionado anteriormente, nuestro objetivo es desarrollar un modelo de regresión. En este caso, utilizaremos un modelo lineal de Dask para realizar el ajuste a nuestros datos de entrenamiento."
      ],
      "metadata": {
        "id": "fJH3mMQOAuIE"
      }
    },
    {
      "cell_type": "code",
      "source": [
        "from dask_ml.linear_model import LinearRegression\n",
        "model = LinearRegression().fit(X_train, y_train)"
      ],
      "metadata": {
        "id": "ZV0QBcd2BAmx"
      },
      "execution_count": 183,
      "outputs": []
    },
    {
      "cell_type": "markdown",
      "source": [
        "Finalmente, usamos nuestros datos de prueba para poder evaluar nuestro modelo."
      ],
      "metadata": {
        "id": "N6vOH4lqoKte"
      }
    },
    {
      "cell_type": "code",
      "source": [
        "y_pred = model.predict(X_test)"
      ],
      "metadata": {
        "id": "OSpaf8OpCEyL"
      },
      "execution_count": 184,
      "outputs": []
    },
    {
      "cell_type": "markdown",
      "source": [
        "Y utilizamos las métricas MSE y R² para evaluar la calidad de nuestro modelo y determinar su eficacia en la predicción. El MSE nos proporciona una medida de qué tan cerca están las predicciones del modelo de los valores reales, mientras que el R² nos indica la proporción de la variabilidad de la variable objetivo que puede explicar nuestro modelo."
      ],
      "metadata": {
        "id": "9_S8ZMI9oS-J"
      }
    },
    {
      "cell_type": "code",
      "source": [
        "from dask_ml.metrics import mean_squared_error, r2_score\n",
        "mse = mean_squared_error(y_test, y_pred)\n",
        "print(\"MSE:\", mse)\n",
        "r2 = r2_score(y_test, y_pred)\n",
        "print(\"R²:\", r2)"
      ],
      "metadata": {
        "colab": {
          "base_uri": "https://localhost:8080/"
        },
        "id": "rZkc67YlCHK9",
        "outputId": "64b73061-5685-4454-8502-ce4edae7fb33"
      },
      "execution_count": 185,
      "outputs": [
        {
          "output_type": "stream",
          "name": "stdout",
          "text": [
            "MSE: 8.129975429705508\n",
            "R²: 0.6357972806707205\n"
          ]
        }
      ]
    },
    {
      "cell_type": "markdown",
      "source": [
        "#Análisis del resultado y conclusiones\n",
        "\n",
        "Observamos que tanto la métrica R² como el MSE indican que nuestro modelo es bueno y efectivo en la predicción del nivel de deserción de la educación de transición a media. Gracias a la tecnología de Dask, pudimos construir un modelo con un impacto social significativo que podría extrapolarse a un conjunto de datos aún más amplio, como los datos relacionados con la educación superior. Esto demuestra el potencial de Dask para manejar grandes volúmenes de datos y realizar análisis de manera eficiente.\n",
        "\n",
        "Con estos resultados positivos, podemos concluir que nuestro modelo es prometedor y tiene aplicaciones potenciales en el campo de la educación para identificar y abordar la deserción estudiantil de manera temprana. Sin embargo, es importante realizar más estudios y validaciones para asegurar la robustez y la generalización del modelo en diferentes contextos educativos.\n"
      ],
      "metadata": {
        "id": "SzyFLxFeovNG"
      }
    }
  ]
}